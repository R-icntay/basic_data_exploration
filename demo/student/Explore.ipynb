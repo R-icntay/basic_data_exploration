{
  "nbformat": 4,
  "nbformat_minor": 0,
  "metadata": {
    "anaconda-cloud": "",
    "kernelspec": {
      "display_name": "R",
      "langauge": "R",
      "name": "ir"
    },
    "language_info": {
      "codemirror_mode": "r",
      "file_extension": ".r",
      "mimetype": "text/x-r-source",
      "name": "R",
      "pygments_lexer": "r",
      "version": "3.4.1"
    },
    "colab": {
      "name": "Explore.ipynb",
      "provenance": [],
      "collapsed_sections": []
    }
  },
  "cells": [
    {
      "cell_type": "markdown",
      "metadata": {
        "id": "tq5t7j1b8uLs"
      },
      "source": [
        "## **What's in this tutorial?**\n",
        "\n",
        "In this short tutorial, we'll get to learn and practice some basic functions to help you work easily and intuitively with data. You'll learn how to:\n",
        "\n",
        "-   Load packages in R\n",
        "\n",
        "-   Sanity check on our data \n",
        "\n",
        "-   Query whether there are missing values \n",
        "\n",
        "-   Subset unique rows\n",
        "\n",
        "-   Keep rows that satisfy your conditions\n",
        "\n",
        "\n",
        "\n",
        "\n",
        "\n",
        "Let's get started!\n",
        "\n",
        "## 1. **Meet the Tidyverse and data**\n",
        "\n",
        "Before we can get started doing some Data Science, we typically begin by loading packages into our current R environment and importing data.\n"
      ]
    },
    {
      "cell_type": "code",
      "metadata": {
        "id": "MX_AV5eM8uL3"
      },
      "source": [
        "# Load the Tidyverse\n",
        "library(tidyverse)\n",
        "\n"
      ],
      "execution_count": null,
      "outputs": []
    },
    {
      "cell_type": "markdown",
      "metadata": {
        "id": "STwq6xsZ8uL7"
      },
      "source": [
        "That's one step down!\n",
        "\n"
      ]
    },
    {
      "cell_type": "code",
      "metadata": {
        "id": "XEXdCDFU8uL-"
      },
      "source": [
        "# Load the library containing the data set\n",
        "penguins <- read_csv(\"penguins.csv\")\n",
        "\n",
        "# Print the first few rows of the data\n",
        "head(penguins)\n"
      ],
      "execution_count": null,
      "outputs": []
    },
    {
      "cell_type": "markdown",
      "metadata": {
        "id": "cgmublZu8uL_"
      },
      "source": [
        "Sometimes, when we have a lot of columns in our data, it may difficult to get a grip of the data at first sight using `slice_head`\n",
        "\n",
        "`glimpse` produces a transposed version where columns run down the page, and data runs across. This makes it possible to see every column in a data frame. Into the bargain, it also shows the dimension of the data frame.\n"
      ]
    },
    {
      "cell_type": "code",
      "metadata": {
        "id": "t2WfrgSv8uMA"
      },
      "source": [
        "penguins %>% \n",
        "  glimpse()\n"
      ],
      "execution_count": null,
      "outputs": []
    },
    {
      "cell_type": "markdown",
      "metadata": {
        "id": "s8FKjlgq8uMC"
      },
      "source": [
        "Before beginning your analysis, it's always a good idea to check whether you have any missing values.\n",
        "\n"
      ]
    },
    {
      "cell_type": "code",
      "metadata": {
        "id": "qUwa5BaS8uMD"
      },
      "source": [
        "# Do we have any missing values?\n",
        "penguins %>% \n",
        "  anyNA()\n"
      ],
      "execution_count": null,
      "outputs": []
    },
    {
      "cell_type": "markdown",
      "metadata": {
        "id": "YFojw-Yj8uME"
      },
      "source": [
        "No missing values! Excellent!\n",
        "\n"
      ]
    },
    {
      "cell_type": "code",
      "metadata": {
        "id": "toAE6txD8uMF"
      },
      "source": [
        "penguins %>% \n",
        "  head()\n"
      ],
      "execution_count": null,
      "outputs": []
    },
    {
      "cell_type": "markdown",
      "metadata": {
        "id": "HevD9qDB8uMG"
      },
      "source": [
        "We only see penguins of species `Adelie`. Are there any other species of penguins? To answer this, we use a function/verb in dplyr called `distinct()`. `distinct()` only returns the unique rows in our data:\n",
        "\n"
      ]
    },
    {
      "cell_type": "code",
      "metadata": {
        "id": "Wh4BNUOW8uMH"
      },
      "source": [
        "# What are the different species of penguins in our data?\n",
        "penguins %>% \n",
        "  distinct(species)\n"
      ],
      "execution_count": null,
      "outputs": []
    },
    {
      "cell_type": "markdown",
      "metadata": {
        "id": "DTkK-cUX8uMH"
      },
      "source": [
        "Say we wanted to find the islands where our penguins reside in. We would just modify the above code to include `island` instead of species: \n",
        "\n"
      ]
    },
    {
      "cell_type": "code",
      "metadata": {
        "id": "tKIN318z8uMI"
      },
      "source": [
        "# What are the different islands in our data?\n",
        "penguins %>% \n",
        "  distinct(island)\n"
      ],
      "execution_count": null,
      "outputs": []
    },
    {
      "cell_type": "markdown",
      "metadata": {
        "id": "gp_J696z8uMI"
      },
      "source": [
        "Aha, 3 islands. Now let's go forth and filter!\n",
        "\n",
        "\n",
        "\n",
        "## 2. filter: keep rows that satisfy your conditions\n",
        "\n",
        "<p >\n",
        "<img src = \"../../images/dplyr_filter_sm.png\", width= 500>\n",
        "\n",
        "### **Example 1**\n",
        "\n",
        "Make a subset with only chinstrap penguins.\n",
        "\n",
        "In the code below, we **filter** the **penguins** data to only keep rows where the entry for **species** exactly matches \"Adelie\" (case sensitive).\n"
      ]
    },
    {
      "cell_type": "code",
      "metadata": {
        "id": "giP8aeYg8uMJ"
      },
      "source": [
        "penguins %>% \n",
        "  filter(species == \"Adelie\")\n"
      ],
      "execution_count": null,
      "outputs": []
    },
    {
      "cell_type": "markdown",
      "metadata": {
        "id": "JUqBgHxj8uMJ"
      },
      "source": [
        "Easy, right? We may want to save this to a variable name \"adelie_penguins\". This is how we would go about it.\n",
        "\n"
      ]
    },
    {
      "cell_type": "code",
      "metadata": {
        "id": "Uv_nB3598uMK"
      },
      "source": [
        "# Subset data to only obtain Adelie penguins\n",
        "adelie_penguins <- penguins %>% \n",
        "  filter(species == \"Adelie\")\n",
        "\n",
        "# Print the first few rows of data\n",
        "adelie_penguins %>% \n",
        "  head()\n"
      ],
      "execution_count": null,
      "outputs": []
    },
    {
      "cell_type": "markdown",
      "metadata": {
        "id": "8vkE619o8uMK"
      },
      "source": [
        "Good job!! Give it a try too.\n",
        "\n",
        "**Question 1: filter** the **penguins** data to only keep rows where the entry for **species** exactly matches \"Chinstrap\". Save this in a variable name `chinstrap_penguins`\n"
      ]
    },
    {
      "cell_type": "code",
      "metadata": {
        "id": "v6C-Sodi8uML"
      },
      "source": [
        "chinstrap_penguins <- penguins %>% \n",
        "  ____(species == \"____\")\n",
        "\n",
        "chinstrap_penguins %>% \n",
        "  head()\n"
      ],
      "execution_count": null,
      "outputs": []
    },
    {
      "cell_type": "markdown",
      "metadata": {
        "id": "d1a24dDq8uMM"
      },
      "source": [
        "\n"
      ]
    },
    {
      "cell_type": "code",
      "metadata": {
        "id": "g4hXJa5m8uMM"
      },
      "source": [
        ". = ottr::check(\"tests/Question 1.R\")\n",
        "\n"
      ],
      "execution_count": null,
      "outputs": []
    },
    {
      "cell_type": "markdown",
      "metadata": {
        "id": "rYsypSAH8uMN"
      },
      "source": [
        "### **Example 2**\n",
        "\n",
        "That went well. What if now we wanted to keep rows where species matches \"Chinstrap\" **OR** \"Gentoo\"?\n",
        "\n",
        "We use the \"or\" operator, `|` (the vertical line) when we want to filter rows based on multiple observations in a specific column.\n"
      ]
    },
    {
      "cell_type": "code",
      "metadata": {
        "id": "f4INDRql8uMN"
      },
      "source": [
        "# Make a subset only containing Chinstrap and Gentoo penguins\n",
        "penguins %>% \n",
        "  filter(species == \"Chinstrap\" | species == \"Gentoo\")\n"
      ],
      "execution_count": null,
      "outputs": []
    },
    {
      "cell_type": "markdown",
      "metadata": {
        "id": "FdPd69Gh8uMO"
      },
      "source": [
        "Now, let's take this a little bit further. What if we wanted to make subsets based on conditions that span different columns? Say we only want to keep observations (rows) where the species is \"Gentoo\" **AND** the island is \"Dream\" - a row should only be retained if both of those conditions are met.\n",
        "\n",
        "There are a number of ways you can write an **and** statement within `filter()`, including:\n",
        "\n",
        "-   A comma between conditions indicates both must be met (`filter(x == \"a\", y == \"b\")`)\n",
        "\n",
        "-   An ampersand between conditions indicates both must be met (`filter(x == \"a\" & y == \"b\")`)\n",
        "\n",
        "We can create a subset starting from penguins that only contains observations for Gentoo penguins on Dream Island as follows:\n"
      ]
    },
    {
      "cell_type": "code",
      "metadata": {
        "id": "XF4Iiseh8uMO"
      },
      "source": [
        "penguins %>%\n",
        "  filter(species == \"Gentoo\", island == \"Dream\") %>% \n",
        "  head()\n"
      ],
      "execution_count": null,
      "outputs": []
    },
    {
      "cell_type": "markdown",
      "metadata": {
        "id": "svMY7jTZ8uMO"
      },
      "source": [
        "Give it a try yourself.\n",
        "\n",
        "**Question 2:** Create a subset from `penguins` containing observations for **female** **Adelie** penguins on **Dream** or **Torgersen** Islands.\n"
      ]
    },
    {
      "cell_type": "code",
      "metadata": {
        "id": "7lA-Xf5-8uMO"
      },
      "source": [
        "penguins_subset <- penguins %>%\n",
        "  ____(____ == \"female\",\n",
        "         species ____) %>%\n",
        "  ____(____ | ____)\n",
        "\n",
        "penguins_subset %>% \n",
        "  head()\n"
      ],
      "execution_count": null,
      "outputs": []
    },
    {
      "cell_type": "markdown",
      "metadata": {
        "id": "JbgsJ7w98uMP"
      },
      "source": [
        "\n"
      ]
    },
    {
      "cell_type": "code",
      "metadata": {
        "id": "o9Ii701t8uMP"
      },
      "source": [
        ". = ottr::check(\"tests/Question 2.R\")\n",
        "\n"
      ],
      "execution_count": null,
      "outputs": []
    },
    {
      "cell_type": "markdown",
      "metadata": {
        "id": "wYVmjN7A8uMP"
      },
      "source": [
        "## So now you know the basics, where next?\n",
        "\n",
        "Fantastic! You just did some data wrangling in R. You learnt how to:\n",
        "\n",
        "-   Load packages in R using `library()`\n",
        "\n",
        "-   Query whether there are missing values `anyNA()`\n",
        "\n",
        "-   Subset unique rows using `distinct()`\n",
        "\n",
        "-   Keep rows that satisfy your conditions using `filter()`\n",
        "\n",
        "The fun doesn't end here, the Tidyverse has a whole bunch of useful verbs for wrangling data:\n",
        "\n",
        "-   `select()`: keep or exclude some columns\n",
        "\n",
        "-   `rename()`: rename columns\n",
        "\n",
        "-   `relocate()`: move columns around\n",
        "\n",
        "-   `mutate()`: add a new column\n",
        "\n",
        "-   `group_by()` + `summarize()`: get summary statistics by group\n",
        "\n",
        "Here are some great places you can learn all about them:\n",
        "\n",
        "- [Build a regression model: prepare and visualize data](https://github.com/microsoft/ML-For-Beginners/blob/main/2-Regression/2-Data/solution/R/lesson_2-R.ipynb) Machine Learning for Beginners - A Curriculum by Microsoft Cloud Advocates.\n",
        "\n",
        "-   [dplyr.tidyverse.org](https://dplyr.tidyverse.org/)\n",
        "\n",
        "\n",
        "-   [R for Data Science](https://r4ds.had.co.nz/) by Hadley Wickham and Garrett Grolemund\n",
        "\n",
        "\n",
        "Happy learning,\n",
        "Eric.\n",
        "\n",
        "<p >\n",
        "<img src = \"../../images/r_learners_sm.jpeg\", width= 500>\n"
      ]
    }
  ]
}